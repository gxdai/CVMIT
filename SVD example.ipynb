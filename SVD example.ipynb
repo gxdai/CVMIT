{
 "cells": [
  {
   "cell_type": "code",
   "execution_count": 22,
   "id": "b7872425",
   "metadata": {},
   "outputs": [],
   "source": [
    "import numpy as np"
   ]
  },
  {
   "cell_type": "code",
   "execution_count": 23,
   "id": "44a2bcf1",
   "metadata": {},
   "outputs": [],
   "source": [
    "arr = np.random.randn(3, 5)"
   ]
  },
  {
   "cell_type": "code",
   "execution_count": 24,
   "id": "305e9d34",
   "metadata": {},
   "outputs": [
    {
     "data": {
      "text/plain": [
       "array([[-0.72997596,  0.67178551,  0.56110416, -0.21982167, -1.32055722],\n",
       "       [ 0.40282537, -0.31948716, -0.66597285,  0.14961019, -0.1347414 ],\n",
       "       [-0.95211788, -1.333932  , -0.67991766, -0.54976823,  0.98191316]])"
      ]
     },
     "execution_count": 24,
     "metadata": {},
     "output_type": "execute_result"
    }
   ],
   "source": [
    "arr"
   ]
  },
  {
   "cell_type": "code",
   "execution_count": 25,
   "id": "c561ba49",
   "metadata": {},
   "outputs": [],
   "source": [
    "U, S, Vh = np.linalg.svd(arr)"
   ]
  },
  {
   "cell_type": "code",
   "execution_count": 26,
   "id": "2624e384",
   "metadata": {},
   "outputs": [
    {
     "data": {
      "text/plain": [
       "array([[-0.5766669 ,  0.7501474 ,  0.32362659],\n",
       "       [ 0.13114129, -0.30599495,  0.94295761],\n",
       "       [ 0.8063853 ,  0.58621325,  0.07808186]])"
      ]
     },
     "execution_count": 26,
     "metadata": {},
     "output_type": "execute_result"
    }
   ],
   "source": [
    "# U should be the eigenvector of arr * arr.transpose (3 x 3)\n",
    "# the columns are orttorgnal.\n",
    "U"
   ]
  },
  {
   "cell_type": "code",
   "execution_count": 28,
   "id": "c201c014",
   "metadata": {},
   "outputs": [
    {
     "data": {
      "text/plain": [
       "True"
      ]
     },
     "execution_count": 28,
     "metadata": {},
     "output_type": "execute_result"
    }
   ],
   "source": [
    "np.isclose(np.dot(U[:, 0], U[:, 1]), 0)"
   ]
  },
  {
   "cell_type": "code",
   "execution_count": 29,
   "id": "377ab7a3",
   "metadata": {},
   "outputs": [
    {
     "data": {
      "text/plain": [
       "True"
      ]
     },
     "execution_count": 29,
     "metadata": {},
     "output_type": "execute_result"
    }
   ],
   "source": [
    "np.isclose(np.dot(U[:, 1], U[:, 2]), 0)"
   ]
  },
  {
   "cell_type": "code",
   "execution_count": 30,
   "id": "9c9a0568",
   "metadata": {},
   "outputs": [
    {
     "data": {
      "text/plain": [
       "True"
      ]
     },
     "execution_count": 30,
     "metadata": {},
     "output_type": "execute_result"
    }
   ],
   "source": [
    "np.isclose(np.dot(U[:, 0], U[:, 2]), 0)"
   ]
  },
  {
   "cell_type": "code",
   "execution_count": 33,
   "id": "2e853bc2",
   "metadata": {},
   "outputs": [
    {
     "data": {
      "text/plain": [
       "array([2.39118401, 1.42049637, 0.72014501])"
      ]
     },
     "execution_count": 33,
     "metadata": {},
     "output_type": "execute_result"
    }
   ],
   "source": [
    "S # The square root of eigenvalues for arr * arr.T"
   ]
  },
  {
   "cell_type": "code",
   "execution_count": 31,
   "id": "24d44173",
   "metadata": {},
   "outputs": [],
   "source": [
    "eigvalue, eigenvec = np.linalg.eig(np.matmul(arr, arr.T))"
   ]
  },
  {
   "cell_type": "code",
   "execution_count": 32,
   "id": "7802296e",
   "metadata": {},
   "outputs": [
    {
     "data": {
      "text/plain": [
       "array([2.39118401, 1.42049637, 0.72014501])"
      ]
     },
     "execution_count": 32,
     "metadata": {},
     "output_type": "execute_result"
    }
   ],
   "source": [
    "eigvalue ** 0.5"
   ]
  },
  {
   "cell_type": "code",
   "execution_count": 34,
   "id": "1afad85d",
   "metadata": {},
   "outputs": [
    {
     "data": {
      "text/plain": [
       "True"
      ]
     },
     "execution_count": 34,
     "metadata": {},
     "output_type": "execute_result"
    }
   ],
   "source": [
    "np.allclose(eigvalue ** 0.5, S)"
   ]
  },
  {
   "cell_type": "code",
   "execution_count": 35,
   "id": "b8b3da3b",
   "metadata": {},
   "outputs": [
    {
     "data": {
      "text/plain": [
       "array([[-0.5766669 ,  0.7501474 , -0.32362659],\n",
       "       [ 0.13114129, -0.30599495, -0.94295761],\n",
       "       [ 0.8063853 ,  0.58621325, -0.07808186]])"
      ]
     },
     "execution_count": 35,
     "metadata": {},
     "output_type": "execute_result"
    }
   ],
   "source": [
    "eigenvec"
   ]
  },
  {
   "cell_type": "code",
   "execution_count": 36,
   "id": "d447b3cc",
   "metadata": {},
   "outputs": [
    {
     "data": {
      "text/plain": [
       "False"
      ]
     },
     "execution_count": 36,
     "metadata": {},
     "output_type": "execute_result"
    }
   ],
   "source": [
    "np.allclose(U, eigenvec)"
   ]
  },
  {
   "cell_type": "code",
   "execution_count": 38,
   "id": "ed7c724b",
   "metadata": {},
   "outputs": [
    {
     "data": {
      "text/plain": [
       "array([[0.51860884],\n",
       "       [0.51860884],\n",
       "       [0.51860884]])"
      ]
     },
     "execution_count": 38,
     "metadata": {},
     "output_type": "execute_result"
    }
   ],
   "source": [
    "np.matmul(np.matmul(arr, arr.T), eigenvec[:, 2:3]) / eigenvec[:, 2:3]"
   ]
  },
  {
   "cell_type": "code",
   "execution_count": 39,
   "id": "9ada7e5d",
   "metadata": {},
   "outputs": [
    {
     "data": {
      "text/plain": [
       "array([[0.51860884],\n",
       "       [0.51860884],\n",
       "       [0.51860884]])"
      ]
     },
     "execution_count": 39,
     "metadata": {},
     "output_type": "execute_result"
    }
   ],
   "source": [
    "np.matmul(np.matmul(arr, arr.T), U[:, 2:3]) / U[:, 2:3]"
   ]
  },
  {
   "cell_type": "code",
   "execution_count": 42,
   "id": "308bd941",
   "metadata": {},
   "outputs": [
    {
     "data": {
      "text/plain": [
       "array([[-0.12294907, -0.62937757, -0.4011328 , -0.1241816 ,  0.64221399],\n",
       "       [-0.86518785, -0.12690564,  0.15918268, -0.37519282, -0.26312765],\n",
       "       [ 0.09618129, -0.26107392, -0.69358972,  0.03750495, -0.66341257],\n",
       "       [-0.46509045,  0.19349671, -0.21397597,  0.82726067,  0.12690136],\n",
       "       [ 0.10379563, -0.69439057,  0.53563134,  0.39754551, -0.24920842]])"
      ]
     },
     "execution_count": 42,
     "metadata": {},
     "output_type": "execute_result"
    }
   ],
   "source": [
    "# V is the eigenvector for arr.T@arr, Vh is the transpose of V\n",
    "Vh"
   ]
  },
  {
   "cell_type": "code",
   "execution_count": 45,
   "id": "d827161f",
   "metadata": {},
   "outputs": [
    {
     "name": "stdout",
     "output_type": "stream",
     "text": [
      "True\n",
      "True\n",
      "True\n",
      "True\n",
      "True\n",
      "True\n",
      "True\n",
      "True\n",
      "True\n",
      "True\n"
     ]
    }
   ],
   "source": [
    "for i in range(4):\n",
    "    for j in range(i + 1, 5):\n",
    "        print(np.isclose(np.dot(Vh[i], Vh[j]), 0))"
   ]
  },
  {
   "cell_type": "code",
   "execution_count": 46,
   "id": "c7cb5d33",
   "metadata": {},
   "outputs": [],
   "source": [
    "V_val, V_vec = np.linalg.eig(np.matmul(arr.T, arr))"
   ]
  },
  {
   "cell_type": "code",
   "execution_count": 47,
   "id": "aa5b40c7",
   "metadata": {},
   "outputs": [
    {
     "data": {
      "text/plain": [
       "array([ 5.71776097e+00+0.00000000e+00j,  2.01780994e+00+0.00000000e+00j,\n",
       "        5.18608839e-01+0.00000000e+00j, -1.41265770e-16+3.55120743e-16j,\n",
       "       -1.41265770e-16-3.55120743e-16j])"
      ]
     },
     "execution_count": 47,
     "metadata": {},
     "output_type": "execute_result"
    }
   ],
   "source": [
    "V_val"
   ]
  },
  {
   "cell_type": "code",
   "execution_count": 48,
   "id": "1036e194",
   "metadata": {},
   "outputs": [
    {
     "data": {
      "text/plain": [
       "True"
      ]
     },
     "execution_count": 48,
     "metadata": {},
     "output_type": "execute_result"
    }
   ],
   "source": [
    "np.allclose(V_val[:3] ** 0.5, S)"
   ]
  },
  {
   "cell_type": "code",
   "execution_count": 49,
   "id": "2cd9852e",
   "metadata": {},
   "outputs": [
    {
     "data": {
      "text/plain": [
       "array([2.39118401, 1.42049637, 0.72014501])"
      ]
     },
     "execution_count": 49,
     "metadata": {},
     "output_type": "execute_result"
    }
   ],
   "source": [
    "S"
   ]
  },
  {
   "cell_type": "code",
   "execution_count": 50,
   "id": "01c777f8",
   "metadata": {},
   "outputs": [
    {
     "data": {
      "text/plain": [
       "array([2.39118401+0.j, 1.42049637+0.j, 0.72014501+0.j])"
      ]
     },
     "execution_count": 50,
     "metadata": {},
     "output_type": "execute_result"
    }
   ],
   "source": [
    "V_val[:3] ** 0.5"
   ]
  },
  {
   "cell_type": "code",
   "execution_count": 55,
   "id": "1b5436c5",
   "metadata": {},
   "outputs": [
    {
     "data": {
      "text/plain": [
       "False"
      ]
     },
     "execution_count": 55,
     "metadata": {},
     "output_type": "execute_result"
    }
   ],
   "source": [
    "np.allclose(np.real(V_vec.T), Vh)"
   ]
  },
  {
   "cell_type": "code",
   "execution_count": 56,
   "id": "7fa38913",
   "metadata": {},
   "outputs": [
    {
     "data": {
      "text/plain": [
       "array([[-0.12294907, -0.62937757, -0.4011328 , -0.1241816 ,  0.64221399],\n",
       "       [-0.86518785, -0.12690564,  0.15918268, -0.37519282, -0.26312765],\n",
       "       [-0.09618129,  0.26107392,  0.69358972, -0.03750495,  0.66341257],\n",
       "       [-0.28151675, -0.09906984,  0.03245054,  0.69400857,  0.00348095],\n",
       "       [-0.28151675, -0.09906984,  0.03245054,  0.69400857,  0.00348095]])"
      ]
     },
     "execution_count": 56,
     "metadata": {},
     "output_type": "execute_result"
    }
   ],
   "source": [
    "np.real(V_vec.T)"
   ]
  },
  {
   "cell_type": "code",
   "execution_count": 54,
   "id": "457e0a0e",
   "metadata": {},
   "outputs": [
    {
     "data": {
      "text/plain": [
       "array([[-0.12294907, -0.62937757, -0.4011328 , -0.1241816 ,  0.64221399],\n",
       "       [-0.86518785, -0.12690564,  0.15918268, -0.37519282, -0.26312765],\n",
       "       [ 0.09618129, -0.26107392, -0.69358972,  0.03750495, -0.66341257],\n",
       "       [-0.46509045,  0.19349671, -0.21397597,  0.82726067,  0.12690136],\n",
       "       [ 0.10379563, -0.69439057,  0.53563134,  0.39754551, -0.24920842]])"
      ]
     },
     "execution_count": 54,
     "metadata": {},
     "output_type": "execute_result"
    }
   ],
   "source": [
    "Vh"
   ]
  },
  {
   "cell_type": "code",
   "execution_count": 57,
   "id": "95531bf2",
   "metadata": {},
   "outputs": [
    {
     "name": "stdout",
     "output_type": "stream",
     "text": [
      "True\n",
      "True\n",
      "True\n",
      "True\n",
      "True\n",
      "True\n",
      "True\n",
      "True\n",
      "True\n",
      "False\n"
     ]
    }
   ],
   "source": [
    "tmp = V_vec.T\n",
    "\n",
    "for i in range(4):\n",
    "    for j in range(i + 1, 5):\n",
    "        print(np.isclose(np.dot(tmp[i], tmp[j]), 0))"
   ]
  },
  {
   "cell_type": "code",
   "execution_count": 58,
   "id": "f1c3e9ef",
   "metadata": {},
   "outputs": [],
   "source": [
    "arr = np.random.randn(6, 3)"
   ]
  },
  {
   "cell_type": "code",
   "execution_count": 59,
   "id": "6753312f",
   "metadata": {},
   "outputs": [],
   "source": [
    "U, S, Vh = np.linalg.svd(arr)"
   ]
  },
  {
   "cell_type": "code",
   "execution_count": 60,
   "id": "a89905f0",
   "metadata": {},
   "outputs": [
    {
     "data": {
      "text/plain": [
       "array([[ 0.14769479,  0.18402985, -0.71789548,  0.37428612,  0.53664019,\n",
       "        -0.02953888],\n",
       "       [-0.15577835,  0.76699106, -0.26061696, -0.25201778, -0.40938853,\n",
       "        -0.29736289],\n",
       "       [ 0.5050156 , -0.28664028, -0.1356382 ,  0.37008366, -0.50776481,\n",
       "        -0.49961171],\n",
       "       [-0.12148567,  0.41357805,  0.46007855,  0.76840017, -0.02293065,\n",
       "         0.1075059 ],\n",
       "       [ 0.66621384,  0.317233  ,  0.4017684 , -0.2610797 ,  0.41462322,\n",
       "        -0.23244238],\n",
       "       [ 0.49018257,  0.15495645, -0.15879873, -0.02887194, -0.33786831,\n",
       "         0.77168901]])"
      ]
     },
     "execution_count": 60,
     "metadata": {},
     "output_type": "execute_result"
    }
   ],
   "source": [
    "U"
   ]
  },
  {
   "cell_type": "code",
   "execution_count": 61,
   "id": "85a8a352",
   "metadata": {},
   "outputs": [
    {
     "data": {
      "text/plain": [
       "(6, 6)"
      ]
     },
     "execution_count": 61,
     "metadata": {},
     "output_type": "execute_result"
    }
   ],
   "source": [
    "U.shape"
   ]
  },
  {
   "cell_type": "code",
   "execution_count": 62,
   "id": "52e3da20",
   "metadata": {},
   "outputs": [
    {
     "data": {
      "text/plain": [
       "array([4.4381869 , 1.9794466 , 1.46150254])"
      ]
     },
     "execution_count": 62,
     "metadata": {},
     "output_type": "execute_result"
    }
   ],
   "source": [
    "S"
   ]
  },
  {
   "cell_type": "code",
   "execution_count": 63,
   "id": "7baae105",
   "metadata": {},
   "outputs": [
    {
     "data": {
      "text/plain": [
       "array([[ 0.21043675,  0.56756075,  0.79598441],\n",
       "       [-0.34158069,  0.80558549, -0.48410191],\n",
       "       [ 0.91599073,  0.17002007, -0.36339258]])"
      ]
     },
     "execution_count": 63,
     "metadata": {},
     "output_type": "execute_result"
    }
   ],
   "source": [
    "Vh"
   ]
  },
  {
   "cell_type": "code",
   "execution_count": null,
   "id": "b0d782bf",
   "metadata": {},
   "outputs": [],
   "source": []
  }
 ],
 "metadata": {
  "kernelspec": {
   "display_name": "Python 3",
   "language": "python",
   "name": "python3"
  },
  "language_info": {
   "codemirror_mode": {
    "name": "ipython",
    "version": 3
   },
   "file_extension": ".py",
   "mimetype": "text/x-python",
   "name": "python",
   "nbconvert_exporter": "python",
   "pygments_lexer": "ipython3",
   "version": "3.8.3"
  }
 },
 "nbformat": 4,
 "nbformat_minor": 5
}
